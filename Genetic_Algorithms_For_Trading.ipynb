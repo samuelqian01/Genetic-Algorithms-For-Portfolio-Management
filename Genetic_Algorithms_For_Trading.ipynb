{
  "nbformat": 4,
  "nbformat_minor": 0,
  "metadata": {
    "colab": {
      "provenance": [],
      "authorship_tag": "ABX9TyNISOn+V1Aiuici3b28xDZk",
      "include_colab_link": true
    },
    "kernelspec": {
      "name": "python3",
      "display_name": "Python 3"
    },
    "language_info": {
      "name": "python"
    }
  },
  "cells": [
    {
      "cell_type": "markdown",
      "metadata": {
        "id": "view-in-github",
        "colab_type": "text"
      },
      "source": [
        "<a href=\"https://colab.research.google.com/github/samuelqian01/Genetic-Algorithms-For-Portfolio-Management/blob/main/Genetic_Algorithms_For_Trading.ipynb\" target=\"_parent\"><img src=\"https://colab.research.google.com/assets/colab-badge.svg\" alt=\"Open In Colab\"/></a>"
      ]
    },
    {
      "cell_type": "markdown",
      "source": [
        "# **SECTION 1: Basic Brute Force Example with items that have a value and volume**"
      ],
      "metadata": {
        "id": "DJMwVMf4XDbk"
      }
    },
    {
      "cell_type": "markdown",
      "source": [
        "Suppose we want to maximize the value (in dollars) for a set of items, but the maximum volume inside of a shipping truck is X cubic meters. This lets us most efficiently ship things inside the truck to get the most value out of the shipment. Let's brute force this."
      ],
      "metadata": {
        "id": "-cvtXPseXLhz"
      }
    },
    {
      "cell_type": "code",
      "source": [
        "import random\n",
        "import numpy as np"
      ],
      "metadata": {
        "id": "ifqrLfWBYeAt"
      },
      "execution_count": 233,
      "outputs": []
    },
    {
      "cell_type": "code",
      "execution_count": 234,
      "metadata": {
        "id": "pI_UrghzW_2H"
      },
      "outputs": [],
      "source": [
        "class Item:\n",
        "  def __init__(self, value, volume):\n",
        "    self.value = value\n",
        "    self.volume = volume\n",
        "\n",
        "items = [Item(value=random.uniform(5, 500), volume=random.uniform(1,200)) for _ in range(20)]"
      ]
    },
    {
      "cell_type": "code",
      "source": [
        "#Randomly generating 1000 weight combinations for the set of items to try out\n",
        "weight_combinations = [[] for _ in range(1000)]\n",
        "for n in range(1000):\n",
        "  for _ in items:\n",
        "    #create 1000 different combinations of weights of 0 or 1 for each item\n",
        "    weight_combinations[n].append(np.random.choice([0,1]))\n"
      ],
      "metadata": {
        "id": "xoUiMu9mYroL"
      },
      "execution_count": 235,
      "outputs": []
    },
    {
      "cell_type": "code",
      "source": [
        "#Limitation of 700 cubic meters, print the best combination through brute force\n",
        "limitation = 700\n",
        "best_combination = None\n",
        "max_value = 0\n",
        "max_volume = 0\n",
        "for i in range(len(weight_combinations)):\n",
        "  volume = 0\n",
        "  value = 0\n",
        "  for n in range(len(weight_combinations[i])):\n",
        "    volume += items[n].volume * weight_combinations[i][n]\n",
        "    value += items[n].value * weight_combinations[i][n]\n",
        "\n",
        "  if value > max_value and volume <= limitation:\n",
        "    max_value = value\n",
        "    best_combination = weight_combinations[i]\n",
        "    max_volume = volume\n",
        "\n",
        "print(max_value)\n",
        "print(max_volume)\n",
        "print(best_combination)\n",
        "item_values = []\n",
        "item_volumes = []\n",
        "for n in range(len(items)):\n",
        "  item_values.append(items[n].value)\n",
        "  item_volumes.append(items[n].volume)\n",
        "print(item_values)\n",
        "print(item_volumes)\n"
      ],
      "metadata": {
        "colab": {
          "base_uri": "https://localhost:8080/"
        },
        "id": "LYhTzD96Z-V6",
        "outputId": "d95fa7e1-06e9-4b33-f41a-8515ba20023c"
      },
      "execution_count": 236,
      "outputs": [
        {
          "output_type": "stream",
          "name": "stdout",
          "text": [
            "1669.482390988435\n",
            "645.5592318521815\n",
            "[0, 0, 1, 0, 0, 1, 0, 1, 0, 1, 0, 0, 0, 1, 0, 0, 1, 1, 1, 0]\n",
            "[110.19768799353957, 307.84958222453207, 493.4497007729561, 100.92649106379123, 22.711759511782358, 260.8759080432425, 124.91919956569797, 128.41851061472454, 193.10013987704443, 222.4722782832943, 206.76957402827236, 180.1323211503222, 273.8557477338084, 280.0591693515386, 27.69201395410457, 112.3609024365958, 175.54865785397823, 87.39430214880068, 21.263863919899876, 415.9624306017134]\n",
            "[188.9512601962895, 145.25412205853524, 56.23904990836818, 66.79573704056381, 197.358877627088, 136.89255983539803, 189.63026435358861, 72.35787420254518, 186.33001275233408, 90.86470521954955, 142.67958097558542, 179.26512973640783, 180.56884642867112, 122.09762349238196, 192.81204171508477, 179.57070735500312, 159.92723897318737, 2.477777699752056, 4.7024025209992, 190.02573410643384]\n"
          ]
        }
      ]
    }
  ]
}